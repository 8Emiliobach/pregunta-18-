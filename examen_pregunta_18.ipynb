{
  "nbformat": 4,
  "nbformat_minor": 0,
  "metadata": {
    "colab": {
      "provenance": []
    },
    "kernelspec": {
      "name": "python3",
      "display_name": "Python 3"
    },
    "language_info": {
      "name": "python"
    }
  },
  "cells": [
    {
      "cell_type": "code",
      "source": [
        "# Step 1: Import necessary libraries\n",
        "# Import pandas for data manipulation\n",
        "# Import numpy for numerical operations\n",
        "# Import matplotlib.pyplot for plotting\n",
        "# Import statsmodels for time series analysis (ADF test, ACF/PACF, ARIMA)\n",
        "\n",
        "# Step 2: Upload the .txt file\n",
        "# Use Google Colab's file upload utility to upload \"Table 21.1-1.txt\"\n",
        "# Read the .txt file into a pandas DataFrame (assume whitespace or tab-delimited)\n",
        "\n",
        "# Step 3: Extract the \"PDI\" column\n",
        "# Select the column corresponding to PDI from the DataFrame\n",
        "# Convert the PDI values to their natural logarithm using numpy or pandas\n",
        "\n",
        "# Step 4: Plot the log-transformed PDI series\n",
        "# Create a line plot of the log(PDI) series to inspect for trends or seasonality\n",
        "\n",
        "# Step 5: Apply the Augmented Dickey-Fuller (ADF) test\n",
        "# Perform the ADF test on the log(PDI) series to check for stationarity\n",
        "# Print the test statistic and p-value to interpret the results\n",
        "\n",
        "# Step 6: Difference the series if non-stationary\n",
        "# If the ADF test indicates non-stationarity, apply first-order differencing\n",
        "# Repeat the ADF test on the differenced series\n",
        "# Continue differencing until the series becomes stationary (d=1 or d=2)\n",
        "\n",
        "# Step 7: Plot ACF and PACF\n",
        "# Generate the ACF plot to identify potential values of q (MA component)\n",
        "# Generate the PACF plot to identify potential values of p (AR component)\n",
        "\n",
        "# Step 8: Fit the ARIMA(p,d,q) model\n",
        "# Based on ACF/PACF findings and differencing order, fit an ARIMA model\n",
        "# Use statsmodels' ARIMA function to create and fit the model\n",
        "\n",
        "# Step 9: Print the summary of the fitted model\n",
        "# Display the model summary to review estimated parameters and model fit statistics\n",
        "\n",
        "# Step 10: Analyze model residuals\n",
        "# Plot residuals and their ACF to check for randomness\n",
        "# Perform Ljung-Box test or similar to confirm residuals resemble white noise\n",
        "\n",
        "# Step 11: Forecast future values\n",
        "# Use the fitted ARIMA model to forecast the next 8 quarters\n",
        "# Plot the forecast along with confidence intervals and recent observed values\n"
      ],
      "metadata": {
        "id": "C-3HQ1kCXkbt"
      },
      "execution_count": 6,
      "outputs": []
    },
    {
      "cell_type": "code",
      "source": [
        "#@title Convert ipynb to HTML in Colab\n",
        "# Upload ipynb\n",
        "from google.colab import files\n",
        "f = files.upload()\n",
        "\n",
        "# Convert ipynb to html\n",
        "import subprocess\n",
        "file0 = list(f.keys())[0]\n",
        "_ = subprocess.run([\"pip\", \"install\", \"nbconvert\"])\n",
        "_ = subprocess.run([\"jupyter\", \"nbconvert\", file0, \"--to\", \"html\"])\n",
        "\n",
        "# download the html\n",
        "files.download(file0[:-5]+\"html\")"
      ],
      "metadata": {
        "id": "4MxGgrZaYLXp"
      },
      "execution_count": null,
      "outputs": []
    }
  ]
}